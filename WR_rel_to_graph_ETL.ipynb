{
 "cells": [
  {
   "cell_type": "code",
   "execution_count": 1,
   "metadata": {},
   "outputs": [],
   "source": [
    "import requests\n",
    "import json\n",
    "import pandas as pd\n",
    "import networkx as nx\n",
    "from sys import stdout\n",
    "import seaborn as sns\n",
    "import matplotlib.pyplot as plt\n",
    "import matplotlib.ticker as ticker\n",
    "import numpy as np\n",
    "%matplotlib inline\n"
   ]
  },
  {
   "cell_type": "code",
   "execution_count": 59,
   "metadata": {},
   "outputs": [],
   "source": [
    "# functions\n",
    "\n",
    "def get_WR_json(url: str) -> dict:\n",
    "    '''\n",
    "    \n",
    "    takes: url of a (paged) API json\n",
    "    returns: (integrated) dictionary representation of json, \n",
    "    \n",
    "    '''\n",
    "    r = requests.get(url)\n",
    "    data = json.loads(r.text)\n",
    "    next_data = data \n",
    "    while True: #paging mechanism\n",
    "        try:\n",
    "            next_url = next_data['paging']['next'] #why not just \"data\" (see above)\n",
    "            #print(next_url)\n",
    "            r = requests.get(next_url)\n",
    "            #print('getting next url')\n",
    "            next_data = json.loads(r.text)\n",
    "            data['items'].extend(next_data['items'])\n",
    "            #stdout.write(\"\\rURL: %s, \\r%d items\" % (next_url, counter))\n",
    "            #stdout.flush()\n",
    "        except:\n",
    "            #print(len(data['items']))\n",
    "            #print('exiting')\n",
    "            break\n",
    "    return data\n",
    "\n",
    "\n",
    "\n",
    "def get_rel_metrics (url :str = 'https://wikirate.org/Relationship+metrics.json') -> list:\n",
    "    '''\n",
    "    \n",
    "    fetches list of all WikiRate relationship metrics\n",
    "    \n",
    "    takes:   url (string) of relationship metrics card (default: 'https://wikirate.org/Relationship+metrics.json')\n",
    "    returns: list of tuples in the form of (name_of_relationship_metric, url_of_relationship_metric)\n",
    "    \n",
    "    '''\n",
    "    rel_metrics_json = get_WR_json(url)\n",
    "    rel_metrics = [(x['name'],x['url'][0:-5]+'+all_metric_values.json') for x in rel_metrics_json['items']]\n",
    "    \n",
    "    return rel_metrics\n",
    "\n",
    "\n",
    "\n",
    "def make_graph_from_relationship(url : str):\n",
    "    '''\n",
    "    \n",
    "    Makes NetworkX graph from WikiRate relationship data (jsons) of a given relationship\n",
    "    \n",
    "    Parameters:\n",
    "    url: string of relationship metric json URL\n",
    "        (eg. 'https://wikirate.org/Commons+Shareholder_Of+all_metric_values.json')\n",
    "    \n",
    "    Returns:\n",
    "    NetworkX Graph object (MultiDiGraph), with 'name' attribute cut out from URL, and some edge attributes\n",
    "    taken from json data\n",
    "    \n",
    "    '''\n",
    "\n",
    "    G = nx.MultiDiGraph()\n",
    "    print (\"Fetching \", url.split('+')[1])\n",
    "    rels_json = get_WR_json(url)\n",
    "    if len(rels_json['items']) == 0: # check if 'items' key in json is empty\n",
    "        print('\\t\"items\" in json are empty, json not returned')\n",
    "        return\n",
    "    else:\n",
    "        G.name = rels_json['name']\n",
    "        print('\\t Graph/relationship name: ', G.name) \n",
    "        rel_urls = [x['url'] for x in rels_json['items']] #to be updated (sep. function?) for controlling years\n",
    "        rels = []\n",
    "        for x in rel_urls:\n",
    "            ego_net_json = get_WR_json(x)\n",
    "            company_from = ego_net_json['company'] \n",
    "            rel_name = ego_net_json['metric']\n",
    "            ego_net = [\n",
    "                #(company_from,\n",
    "                (x['subject_company'],\n",
    "                 x['object_company'],\n",
    "                 {'year' : x['year'], 'value' : x['value']}) for x in ego_net_json['items']]\n",
    "            rels.extend(ego_net)\n",
    "        G.add_edges_from(rels, Label=rel_name)\n",
    "        return G\n",
    "\n",
    "def wr_graphs (relations_data):\n",
    "    '''\n",
    "    takes: list of urls of realtionship metrics, eg.\n",
    "         'https://wikirate.org/Commons+Supplied_By+all_metric_values.json',\n",
    "    \n",
    "    returns: list of NetworkX graph objects\n",
    "    \n",
    "    '''\n",
    "    graphs = []\n",
    "    for x in relations_data:\n",
    "        G = make_graph_from_relationship(x) # G.name\n",
    "        if G:\n",
    "            graphs.append(G)\n",
    "    print ('done')\n",
    "    return graphs\n"
   ]
  },
  {
   "cell_type": "code",
   "execution_count": 2,
   "metadata": {},
   "outputs": [
    {
     "name": "stdout",
     "output_type": "stream",
     "text": [
      "./results_new_data_subject_comp/file.file\n"
     ]
    }
   ],
   "source": [
    "# setting path\n",
    "path ='./results_new_data_subject_comp/'\n",
    "#print(path+'file.file')"
   ]
  },
  {
   "cell_type": "code",
   "execution_count": 60,
   "metadata": {},
   "outputs": [
    {
     "data": {
      "text/plain": [
       "['https://wikirate.org/OpenCorporates+Controls+all_metric_values.json',\n",
       " 'https://wikirate.org/OpenCorporates+Subsidiary_Of+all_metric_values.json',\n",
       " 'https://wikirate.org/Commons+uses_Tungsten_smelted_by+all_metric_values.json',\n",
       " 'https://wikirate.org/Commons+uses_Tantalum_smelted_by+all_metric_values.json',\n",
       " 'https://wikirate.org/Commons+uses_Tin_smelted_by+all_metric_values.json',\n",
       " 'https://wikirate.org/Commons+Shareholder_Of+all_metric_values.json',\n",
       " 'https://wikirate.org/OpenCorporates+Shareholder_Of+all_metric_values.json',\n",
       " 'https://wikirate.org/Commons+Has_Factory+all_metric_values.json',\n",
       " 'https://wikirate.org/Commons+uses_Gold_smelted_by+all_metric_values.json',\n",
       " 'https://wikirate.org/Commons+Subsidiary_of+all_metric_values.json',\n",
       " 'https://wikirate.org/Commons+Supplied_By+all_metric_values.json',\n",
       " 'https://wikirate.org/OpenCorporates+Has_Brands+all_metric_values.json',\n",
       " 'https://wikirate.org/Proxy_Voting_Research_Group+has_Voting_Authority_over+all_metric_values.json',\n",
       " 'https://wikirate.org/Proxy_Voting_Research_Group+has_Voting_Authority_over_weighted+all_metric_values.json',\n",
       " 'https://wikirate.org/Proxy_Voting_Research_Group+voted_with_management_of+all_metric_values.json',\n",
       " 'https://wikirate.org/OpenCorporates+has_Branch+all_metric_values.json']"
      ]
     },
     "metadata": {},
     "output_type": "display_data"
    }
   ],
   "source": [
    "# getting current relationship metrics' urls\n",
    "\n",
    "rel_metrics = get_rel_metrics('https://wikirate.org/Relationship+metrics.json')\n",
    "\n",
    "relations_data = [x[1] for x in rel_metrics]\n",
    "display (relations_data)"
   ]
  },
  {
   "cell_type": "code",
   "execution_count": 61,
   "metadata": {},
   "outputs": [
    {
     "name": "stdout",
     "output_type": "stream",
     "text": [
      "Fetching  Controls\n",
      "\t Graph/relationship name:  OpenCorporates+Controls+all metric values\n",
      "Fetching  Subsidiary_Of\n",
      "\t Graph/relationship name:  OpenCorporates+Subsidiary Of+all metric values\n",
      "Fetching  uses_Tungsten_smelted_by\n",
      "\t Graph/relationship name:  Commons+uses Tungsten smelted by+all metric values\n",
      "Fetching  uses_Tantalum_smelted_by\n",
      "\t Graph/relationship name:  Commons+uses Tantalum smelted by+all metric values\n",
      "Fetching  uses_Tin_smelted_by\n",
      "\t Graph/relationship name:  Commons+uses Tin smelted by+all metric values\n",
      "Fetching  Shareholder_Of\n",
      "\t Graph/relationship name:  Commons+Shareholder Of+all metric values\n",
      "Fetching  Shareholder_Of\n",
      "\t Graph/relationship name:  OpenCorporates+Shareholder Of+all metric values\n",
      "Fetching  Has_Factory\n",
      "\t Graph/relationship name:  Commons+Has Factory+all metric values\n",
      "Fetching  uses_Gold_smelted_by\n",
      "\t Graph/relationship name:  Commons+uses Gold smelted by+all metric values\n",
      "Fetching  Subsidiary_of\n",
      "\t Graph/relationship name:  Commons+Subsidiary of+all metric values\n",
      "Fetching  Supplied_By\n",
      "\t Graph/relationship name:  Commons+Supplied By+all metric values\n",
      "Fetching  Has_Brands\n",
      "\t\"items\" in json are empty, json not returned\n",
      "Fetching  has_Voting_Authority_over\n",
      "\t Graph/relationship name:  Proxy Voting Research Group+has Voting Authority over+all metric values\n",
      "Fetching  has_Voting_Authority_over_weighted\n",
      "\t Graph/relationship name:  Proxy Voting Research Group+has Voting Authority over weighted+all metric values\n",
      "Fetching  voted_with_management_of\n",
      "\t Graph/relationship name:  Proxy Voting Research Group+voted with management of+all metric values\n",
      "Fetching  has_Branch\n",
      "\t Graph/relationship name:  OpenCorporates+has Branch+all metric values\n",
      "done\n"
     ]
    }
   ],
   "source": [
    " graphs = wr_graphs(relations_data)"
   ]
  },
  {
   "cell_type": "code",
   "execution_count": 62,
   "metadata": {},
   "outputs": [
    {
     "name": "stdout",
     "output_type": "stream",
     "text": [
      "0 OpenCorporates+Controls+all metric values\n",
      "1 OpenCorporates+Subsidiary Of+all metric values\n",
      "2 Commons+uses Tungsten smelted by+all metric values\n",
      "3 Commons+uses Tantalum smelted by+all metric values\n",
      "4 Commons+uses Tin smelted by+all metric values\n",
      "5 Commons+Shareholder Of+all metric values\n",
      "6 OpenCorporates+Shareholder Of+all metric values\n",
      "7 Commons+Has Factory+all metric values\n",
      "8 Commons+uses Gold smelted by+all metric values\n",
      "9 Commons+Subsidiary of+all metric values\n",
      "10 Commons+Supplied By+all metric values\n",
      "11 Proxy Voting Research Group+has Voting Authority over+all metric values\n",
      "12 Proxy Voting Research Group+has Voting Authority over weighted+all metric values\n",
      "13 Proxy Voting Research Group+voted with management of+all metric values\n",
      "14 OpenCorporates+has Branch+all metric values\n"
     ]
    }
   ],
   "source": [
    "# check what graphs have been downloaded\n",
    "for x in graphs:\n",
    "    print(graphs.index(x), x.name)\n"
   ]
  },
  {
   "cell_type": "code",
   "execution_count": 63,
   "metadata": {},
   "outputs": [],
   "source": [
    "#reverse 'subsidiary' relationships so that they correspond to 'supplied_by' in direction\n",
    "graphs[1] = graphs[1].reverse()\n",
    "graphs[9] = graphs[9].reverse()"
   ]
  },
  {
   "cell_type": "code",
   "execution_count": 7,
   "metadata": {},
   "outputs": [
    {
     "name": "stdout",
     "output_type": "stream",
     "text": [
      "Name: WR graph\n",
      "Type: MultiDiGraph\n",
      "Number of nodes: 24006\n",
      "Number of edges: 75950\n",
      "Average in degree:   3.1638\n",
      "Average out degree:   3.1638\n"
     ]
    }
   ],
   "source": [
    "# compose complete graph from relationship graphs and display basic info\n",
    "\n",
    "G_full = nx.all.compose_all(graphs)\n",
    "G_full.name = 'WR graph'\n",
    "print(nx.info(G_full))"
   ]
  },
  {
   "cell_type": "code",
   "execution_count": 69,
   "metadata": {},
   "outputs": [],
   "source": [
    "#save full graph\n",
    "nx.write_gpickle(G_full, path+\"full.gpickle\")"
   ]
  },
  {
   "cell_type": "code",
   "execution_count": 70,
   "metadata": {},
   "outputs": [],
   "source": [
    "#save graphs\n",
    "nx.write_gpickle(graphs, path+\"graphs.gpicle\")"
   ]
  },
  {
   "cell_type": "code",
   "execution_count": 3,
   "metadata": {},
   "outputs": [],
   "source": [
    "#read full graph\n",
    "graphs_from_pickle = nx.read_gpickle(path+\"full.gpicle\")"
   ]
  },
  {
   "cell_type": "code",
   "execution_count": 3,
   "metadata": {},
   "outputs": [],
   "source": [
    "#read graphs\n",
    "graphs_from_pickle = nx.read_gpickle(path+\"graphs.gpicle\")"
   ]
  },
  {
   "cell_type": "code",
   "execution_count": 5,
   "metadata": {},
   "outputs": [
    {
     "name": "stdout",
     "output_type": "stream",
     "text": [
      "Name: OpenCorporates+Controls+all metric values\n",
      "Type: MultiDiGraph\n",
      "Number of nodes: 518\n",
      "Number of edges: 362\n",
      "Average in degree:   0.6988\n",
      "Average out degree:   0.6988\n",
      "\n",
      "Name: OpenCorporates+Subsidiary Of+all metric values\n",
      "Type: MultiDiGraph\n",
      "Number of nodes: 7\n",
      "Number of edges: 4\n",
      "Average in degree:   0.5714\n",
      "Average out degree:   0.5714\n",
      "\n",
      "Name: Commons+uses Tungsten smelted by+all metric values\n",
      "Type: MultiDiGraph\n",
      "Number of nodes: 523\n",
      "Number of edges: 6830\n",
      "Average in degree:  13.0593\n",
      "Average out degree:  13.0593\n",
      "\n",
      "Name: Commons+uses Tantalum smelted by+all metric values\n",
      "Type: MultiDiGraph\n",
      "Number of nodes: 484\n",
      "Number of edges: 6951\n",
      "Average in degree:  14.3616\n",
      "Average out degree:  14.3616\n",
      "\n",
      "Name: Commons+uses Tin smelted by+all metric values\n",
      "Type: MultiDiGraph\n",
      "Number of nodes: 1577\n",
      "Number of edges: 16589\n",
      "Average in degree:  10.5193\n",
      "Average out degree:  10.5193\n",
      "\n",
      "Name: Commons+Shareholder Of+all metric values\n",
      "Type: MultiDiGraph\n",
      "Number of nodes: 146\n",
      "Number of edges: 187\n",
      "Average in degree:   1.2808\n",
      "Average out degree:   1.2808\n",
      "\n",
      "Name: OpenCorporates+Shareholder Of+all metric values\n",
      "Type: MultiDiGraph\n",
      "Number of nodes: 5\n",
      "Number of edges: 4\n",
      "Average in degree:   0.8000\n",
      "Average out degree:   0.8000\n",
      "\n",
      "Name: Commons+Has Factory+all metric values\n",
      "Type: MultiDiGraph\n",
      "Number of nodes: 341\n",
      "Number of edges: 228\n",
      "Average in degree:   0.6686\n",
      "Average out degree:   0.6686\n",
      "\n",
      "Name: Commons+uses Gold smelted by+all metric values\n",
      "Type: MultiDiGraph\n",
      "Number of nodes: 1356\n",
      "Number of edges: 23935\n",
      "Average in degree:  17.6512\n",
      "Average out degree:  17.6512\n",
      "\n",
      "Name: Commons+Subsidiary of+all metric values\n",
      "Type: MultiDiGraph\n",
      "Number of nodes: 7\n",
      "Number of edges: 6\n",
      "Average in degree:   0.8571\n",
      "Average out degree:   0.8571\n",
      "\n",
      "Name: Commons+Supplied By+all metric values\n",
      "Type: MultiDiGraph\n",
      "Number of nodes: 20537\n",
      "Number of edges: 22819\n",
      "Average in degree:   1.1111\n",
      "Average out degree:   1.1111\n",
      "\n",
      "Name: Proxy Voting Research Group+has Voting Authority over+all metric values\n",
      "Type: MultiDiGraph\n",
      "Number of nodes: 10\n",
      "Number of edges: 10\n",
      "Average in degree:   1.0000\n",
      "Average out degree:   1.0000\n",
      "\n",
      "Name: Proxy Voting Research Group+has Voting Authority over weighted+all metric values\n",
      "Type: MultiDiGraph\n",
      "Number of nodes: 10\n",
      "Number of edges: 10\n",
      "Average in degree:   1.0000\n",
      "Average out degree:   1.0000\n",
      "\n",
      "Name: Proxy Voting Research Group+voted with management of+all metric values\n",
      "Type: MultiDiGraph\n",
      "Number of nodes: 2\n",
      "Number of edges: 1\n",
      "Average in degree:   0.5000\n",
      "Average out degree:   0.5000\n",
      "\n",
      "Name: OpenCorporates+has Branch+all metric values\n",
      "Type: MultiDiGraph\n",
      "Number of nodes: 6\n",
      "Number of edges: 3\n",
      "Average in degree:   0.5000\n",
      "Average out degree:   0.5000\n",
      "\n"
     ]
    }
   ],
   "source": [
    "#print basic information for each graph\n",
    "for x in graphs:\n",
    "    print(nx.info(x))\n",
    "    print()"
   ]
  },
  {
   "cell_type": "code",
   "execution_count": 10,
   "metadata": {},
   "outputs": [],
   "source": [
    "#write full graph in Gephi-readable format\n",
    "nx.write_gexf(G_full, path+\"full.gexf\")"
   ]
  },
  {
   "cell_type": "markdown",
   "metadata": {},
   "source": [
    "### Components"
   ]
  },
  {
   "cell_type": "code",
   "execution_count": 8,
   "metadata": {},
   "outputs": [
    {
     "data": {
      "image/png": "[encoded data removed]",
      "text/plain": [
       "<Figure size 432x288 with 1 Axes>"
      ]
     },
     "metadata": {},
     "output_type": "display_data"
    },
    {
     "name": "stdout",
     "output_type": "stream",
     "text": [
      "[1, 2, 3, 135, 12, 23]\n"
     ]
    }
   ],
   "source": [
    "components = [len(c) for c in sorted(nx.weakly_connected_components(G_full), key=len, reverse=True)]\n",
    "components = pd.Series(components)\n",
    "\n",
    "sns.set(style=\"darkgrid\")\n",
    "ax = sns.countplot(components)\n",
    "plt.title('')\n",
    "#'Distribution of Components\\' Sizes'\n",
    "plt.xlabel('Size of Component')\n",
    "tics_locs = list(set(components.value_counts()))\n",
    "ax.yaxis.set_major_locator(ticker.FixedLocator([1, 5, 15, 30, 60]))\n",
    "ax.set_ylim(0,65)\n",
    "plt.show()\n",
    "#print(tics_locs)\n"
   ]
  },
  {
   "cell_type": "markdown",
   "metadata": {},
   "source": [
    "### Outdegrees"
   ]
  },
  {
   "cell_type": "code",
   "execution_count": 604,
   "metadata": {},
   "outputs": [
    {
     "data": {
      "text/plain": [
       "count    493.000000\n",
       "mean      23.823529\n",
       "std       50.913198\n",
       "min        1.000000\n",
       "25%        1.000000\n",
       "50%        1.000000\n",
       "75%        4.000000\n",
       "max      198.000000\n",
       "dtype: float64"
      ]
     },
     "execution_count": 604,
     "metadata": {},
     "output_type": "execute_result"
    }
   ],
   "source": [
    "out_degrees = pd.Series(sorted ( d for n, d in G_full.out_degree()))\n",
    "\n",
    "#show basic stats\n",
    "out_degrees[(out_degrees > 0) & (out_degrees <= 200)].describe()"
   ]
  },
  {
   "cell_type": "code",
   "execution_count": 692,
   "metadata": {},
   "outputs": [
    {
     "data": {
      "image/png": "[encoded data removed]",
      "text/plain": [
       "<Figure size 560x480 with 1 Axes>"
      ]
     },
     "metadata": {},
     "output_type": "display_data"
    },
    {
     "data": {
      "text/plain": [
       "0       16055\n",
       "1         281\n",
       "2          60\n",
       "3          23\n",
       "4          15\n",
       "281         4\n",
       "196         4\n",
       "294         4\n",
       "290         4\n",
       "133         3\n",
       "295         3\n",
       "152         3\n",
       "277         3\n",
       "148         3\n",
       "310         3\n",
       "35          3\n",
       "6           3\n",
       "134         3\n",
       "283         3\n",
       "315         3\n",
       "314         3\n",
       "301         3\n",
       "285         2\n",
       "136         2\n",
       "14          2\n",
       "19          2\n",
       "298         2\n",
       "282         2\n",
       "170         2\n",
       "154         2\n",
       "        ...  \n",
       "183         1\n",
       "303         1\n",
       "55          1\n",
       "5892        1\n",
       "8           1\n",
       "470         1\n",
       "390         1\n",
       "374         1\n",
       "262         1\n",
       "230         1\n",
       "198         1\n",
       "407         1\n",
       "40          1\n",
       "202         1\n",
       "345         1\n",
       "138         1\n",
       "42          1\n",
       "1113        1\n",
       "713         1\n",
       "441         1\n",
       "361         1\n",
       "185         1\n",
       "120         1\n",
       "137         1\n",
       "105         1\n",
       "41          1\n",
       "9           1\n",
       "440         1\n",
       "296         1\n",
       "167         1\n",
       "Length: 186, dtype: int64"
      ]
     },
     "execution_count": 692,
     "metadata": {},
     "output_type": "execute_result"
    }
   ],
   "source": [
    "\n",
    "plt.figure('''num=None''', figsize=(7, 6), dpi=80, facecolor='w', edgecolor='k')\n",
    "\n",
    "#ax = sns.countplot(out_degrees[(out_degrees > 0) & (out_degrees <= 50)])\n",
    "ax = out_degrees[(out_degrees > 0)].plot.density(xlim = (0,6000))\n",
    "plt.title('') #Distribution of outdegrees / controlls relationships\n",
    "plt.xlabel('outdegree')\n",
    "#ax.xaxis.set_major_locator(ticker.FixedLocator([2,4,10,]))\n",
    "#ax.set_xlim(2,500)\n",
    "#plt.xticks(np.arange(1, 5750, 100))\n",
    "#loc = ticker.MultipleLocator(10) # this locator puts ticks at regular intervals\n",
    "#ax.xaxis.set_major_locator(loc)\n",
    "plt.show()\n",
    "\n",
    "out_degrees.value_counts()"
   ]
  },
  {
   "cell_type": "code",
   "execution_count": 325,
   "metadata": {},
   "outputs": [
    {
     "data": {
      "image/png": "[encoded data removed]",
      "text/plain": [
       "<Figure size 432x288 with 1 Axes>"
      ]
     },
     "metadata": {},
     "output_type": "display_data"
    }
   ],
   "source": [
    "ax = pd.Series(out_degrees).value_counts().sort_index().plot.bar()\n",
    "loc = ticker.MultipleLocator(10) # this locator puts ticks at regular intervals\n",
    "ax.xaxis.set_major_locator(loc)\n",
    "#ax.set_xlim(1,6000)\n",
    "plt.show()\n",
    "#np.arange"
   ]
  }
 ],
 "metadata": {
  "kernelspec": {
   "display_name": "Python 3",
   "language": "python",
   "name": "python3"
  },
  "language_info": {
   "codemirror_mode": {
    "name": "ipython",
    "version": 3
   },
   "file_extension": ".py",
   "mimetype": "text/x-python",
   "name": "python",
   "nbconvert_exporter": "python",
   "pygments_lexer": "ipython3",
   "version": "3.6.7"
  }
 },
 "nbformat": 4,
 "nbformat_minor": 2
}
